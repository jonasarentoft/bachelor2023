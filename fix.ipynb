{
 "cells": [
  {
   "cell_type": "code",
   "execution_count": 7,
   "metadata": {},
   "outputs": [],
   "source": [
    "with open(f'nodes_fixed.txt', 'w') as new:\n",
    "            with open(f'/Users/jonasarentoft/Desktop/bachelor2023/nodesAndPositionsFixed.txt', 'r') as nodesAndPos:\n",
    "                i = 0\n",
    "                for node in nodesAndPos:\n",
    "                    nodeID, lat, lon = node.strip('\\n').split(',')\n",
    "                    new.write(f'{i},{nodeID},{lat},{lon}\\n')\n",
    "                    i += 1\n",
    "                    \n",
    "                    \n",
    "                "
   ]
  },
  {
   "cell_type": "code",
   "execution_count": 8,
   "metadata": {},
   "outputs": [],
   "source": [
    "import os"
   ]
  },
  {
   "cell_type": "code",
   "execution_count": 10,
   "metadata": {},
   "outputs": [
    {
     "data": {
      "text/plain": [
       "<module 'posixpath' from '/Users/jonasarentoft/opt/anaconda3/envs/au/lib/python3.9/posixpath.py'>"
      ]
     },
     "execution_count": 10,
     "metadata": {},
     "output_type": "execute_result"
    }
   ],
   "source": [
    "os.path"
   ]
  },
  {
   "cell_type": "code",
   "execution_count": 17,
   "metadata": {},
   "outputs": [
    {
     "data": {
      "text/plain": [
       "['edgesSorted.txt',\n",
       " 'E_reversed.txt',\n",
       " 'E.txt',\n",
       " 'edges.txt',\n",
       " 'edgesWithDistances.txt',\n",
       " 'edgesWithPartialCoords.txt',\n",
       " 'edgesWithPartialCoordsSorted.txt',\n",
       " 'nodesAndPositions.txt',\n",
       " '._edgesWithPartialCoordsSorted.txt',\n",
       " '._nodesAndPositions.txt']"
      ]
     },
     "execution_count": 17,
     "metadata": {},
     "output_type": "execute_result"
    }
   ],
   "source": [
    "from os.path import isfile, join\n",
    "\n",
    "mypath = '/volumes/T7/jonas_bachelor2023/denmark_data'\n",
    "onlyfiles = [f for f in os.listdir(mypath) if isfile(join(mypath, f))]\n",
    "onlyfiles"
   ]
  },
  {
   "cell_type": "code",
   "execution_count": null,
   "metadata": {},
   "outputs": [],
   "source": []
  }
 ],
 "metadata": {
  "kernelspec": {
   "display_name": "au",
   "language": "python",
   "name": "python3"
  },
  "language_info": {
   "codemirror_mode": {
    "name": "ipython",
    "version": 3
   },
   "file_extension": ".py",
   "mimetype": "text/x-python",
   "name": "python",
   "nbconvert_exporter": "python",
   "pygments_lexer": "ipython3",
   "version": "3.9.15"
  },
  "orig_nbformat": 4,
  "vscode": {
   "interpreter": {
    "hash": "9f8c3e4fc65675823b727bd85734b8c826df63413fe81f80ae8af34189e71410"
   }
  }
 },
 "nbformat": 4,
 "nbformat_minor": 2
}

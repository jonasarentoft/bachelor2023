{
 "cells": [
  {
   "cell_type": "code",
   "execution_count": 1,
   "metadata": {},
   "outputs": [],
   "source": [
    "import xml.etree.ElementTree as ET\n",
    "import numpy as np\n",
    "import os"
   ]
  },
  {
   "cell_type": "code",
   "execution_count": 2,
   "metadata": {},
   "outputs": [],
   "source": [
    "\n",
    "tree = ET.iterparse('data/denmark-latest.xml')\n",
    "\n"
   ]
  },
  {
   "cell_type": "code",
   "execution_count": 3,
   "metadata": {},
   "outputs": [],
   "source": [
    "# Forkert version\n",
    "\n",
    "with open('preprocessing_v1.txt', 'w') as f:\n",
    "    \n",
    "    tree = ET.iterparse('data/malta-latest.xml', events = ('start', 'end'))\n",
    "    for event, child in tree:\n",
    "\n",
    "        if event == 'start':\n",
    "            if child.tag == 'way':\n",
    "                child_attributes = child.attrib\n",
    "                child_id = child_attributes['id']\n",
    "                \n",
    "                #tags = [grandchild.attrib for grandchild in child if grandchild.tag == 'tag']\n",
    "                hw = [grandchild.attrib['k'] == 'highway' for grandchild in child if grandchild.tag == 'tag']\n",
    "                nds = [grandchild.attrib['ref'] for grandchild in child if grandchild.tag == 'nd']\n",
    "                #print(hw,'\\n')\n",
    "                \n",
    "                if any(hw) == True:\n",
    "                    f.write(f'{child_id}:{nds}\\n')\n",
    "        if event == 'end':\n",
    "            child.clear()\n",
    "\n",
    "\n",
    "            \n",
    "        "
   ]
  },
  {
   "cell_type": "code",
   "execution_count": 2,
   "metadata": {},
   "outputs": [
    {
     "data": {
      "text/plain": [
       "0"
      ]
     },
     "execution_count": 2,
     "metadata": {},
     "output_type": "execute_result"
    }
   ],
   "source": [
    "# nr. 1\n",
    "\n",
    "# get the node IDs of the nodes referenced in highways\n",
    "\n",
    "with open('nodesInWays.txt', 'w') as f:\n",
    "    \n",
    "    tree = ET.iterparse('data/malta-latest.xml', events = ('start', 'end'))\n",
    "    for event, child in tree:\n",
    "\n",
    "        if event == 'start':\n",
    "            if child.tag == 'way':\n",
    "\n",
    "                hw = [grandchild.attrib['k'] == 'highway' for grandchild in child if grandchild.tag == 'tag']\n",
    "                nds = [grandchild.attrib['ref'] for grandchild in child if grandchild.tag == 'nd']\n",
    "\n",
    "                \n",
    "                if any(hw):\n",
    "                    for nd in nds:\n",
    "                        f.write(f'{nd}\\n')\n",
    "                        \n",
    "        if event == 'end':\n",
    "            child.clear()\n",
    "\n",
    "\n",
    "os.system('cmd /c SORT nodesInWays.txt /unique /o nodesInWaysSorted.txt')"
   ]
  },
  {
   "cell_type": "code",
   "execution_count": null,
   "metadata": {},
   "outputs": [],
   "source": [
    "# uden binary search - tager ca. 12 min for malta - DVS SKRALD!!\n",
    "f = open('nodesInWaysSorted.txt', 'r')\n",
    "list = f.read().splitlines()\n",
    "f.close()\n",
    "\n",
    "# find de nodes vi gerne vil have samt deres (lat, lon)\n",
    "\n",
    "with open('nodes.txt', 'w') as f:\n",
    "    \n",
    "    tree = ET.iterparse('data/malta-latest.xml', events = ('start', 'end'))\n",
    "    for event, child in tree:\n",
    "\n",
    "        if event == 'start' and child.tag == 'node':\n",
    "            \n",
    "            if child.attrib['id'] in list:    \n",
    "\n",
    "                nodeID = child.attrib['id']\n",
    "                lat = child.attrib['lat']\n",
    "                lon = child.attrib['lon']\n",
    "\n",
    "                f.write(f'{nodeID}{lat,lon}\\n')\n",
    "                        \n",
    "        if event == 'end':\n",
    "            child.clear()"
   ]
  },
  {
   "cell_type": "code",
   "execution_count": 3,
   "metadata": {},
   "outputs": [],
   "source": [
    "# Med binary search - tager ca 5 sec for malta\n",
    "f = open('nodesInWaysSorted.txt', 'r')\n",
    "list = f.read().splitlines()\n",
    "f.close()\n",
    "\n",
    "from bisect import bisect_left\n",
    " \n",
    "def BinarySearchTF(a, x):\n",
    "    i = bisect_left(a, x)\n",
    "    if i != len(a) and a[i] == x:\n",
    "        return True\n",
    "    else:\n",
    "        return False\n",
    " \n",
    "# find de nodes vi gerne vil have samt deres (lat, lon)\n",
    "\n",
    "with open('nodes.txt', 'w') as f:\n",
    "    \n",
    "    tree = ET.iterparse('data/malta-latest.xml', events = ('start', 'end'))\n",
    "    for event, child in tree:\n",
    "\n",
    "        if event == 'start':\n",
    "            \n",
    "            if child.tag == 'node':\n",
    "\n",
    "                if BinarySearchTF(list,child.attrib['id']):    \n",
    "\n",
    "                    nodeID = child.attrib['id']\n",
    "                    lat = child.attrib['lat']\n",
    "                    lon = child.attrib['lon']\n",
    "\n",
    "                    f.write(f'{nodeID}, {lat}, {lon}\\n')\n",
    "                        \n",
    "        if event == 'end':\n",
    "            child.clear()"
   ]
  },
  {
   "cell_type": "code",
   "execution_count": 4,
   "metadata": {},
   "outputs": [
    {
     "data": {
      "image/png": "[encoded data removed]",
      "text/plain": [
       "<Figure size 432x288 with 1 Axes>"
      ]
     },
     "metadata": {
      "needs_background": "light"
     },
     "output_type": "display_data"
    }
   ],
   "source": [
    "import numpy as np\n",
    "import matplotlib.pyplot as plt\n",
    "coords = []\n",
    "with open('nodes.txt', 'r') as nodes:\n",
    "\n",
    "    for line in nodes:\n",
    "        list = [float(i) for i in line.split(sep=\",\")]\n",
    "        coords.append(list[1:])\n",
    "\n",
    "\n",
    "X = np.array(coords)\n",
    "plt.plot(X[:, 1], X[:, 0], 'o', markersize=0.1)\n",
    "plt.xlabel('Longitude')\n",
    "plt.ylabel('Latitude')\n",
    "plt.axis('equal')\n",
    "plt.show()"
   ]
  },
  {
   "cell_type": "code",
   "execution_count": 20,
   "metadata": {},
   "outputs": [
    {
     "name": "stdout",
     "output_type": "stream",
     "text": [
      "197798.0\n",
      "36.0239384\n",
      "14.2884479\n"
     ]
    }
   ],
   "source": [
    "f = open('nodes.txt', 'r')\n",
    "list = f.read().splitlines()\n",
    "f.close()\n",
    "a = list[0]\n",
    "a = a.split(sep=\",\")\n",
    "for i in a:\n",
    "    print(float(i))"
   ]
  },
  {
   "cell_type": "code",
   "execution_count": 20,
   "metadata": {},
   "outputs": [
    {
     "name": "stdout",
     "output_type": "stream",
     "text": [
      "153892\n"
     ]
    }
   ],
   "source": [
    "with open('nodes.txt', 'r') as n:\n",
    "    nodes = []\n",
    "    lats = []\n",
    "    longs = []\n",
    "\n",
    "    for line in n.readlines():\n",
    "        node, lat, lon = line.strip('\\n').split(',')\n",
    "        nodes.append(int(node))\n",
    "        lats.append(float(lat))\n",
    "        longs.append(float(lon))\n",
    "\n",
    "print(len(nodes))\n"
   ]
  },
  {
   "cell_type": "code",
   "execution_count": 9,
   "metadata": {},
   "outputs": [],
   "source": [
    "def BinarySearchIndex(a, x):\n",
    "    i = bisect_left(a, x)\n",
    "    if i != len(a) and a[i] == x:\n",
    "        return i\n",
    "    "
   ]
  },
  {
   "cell_type": "code",
   "execution_count": 24,
   "metadata": {},
   "outputs": [],
   "source": [
    "\n",
    "with open('edges.txt', 'w') as f:\n",
    "    \n",
    "        tree = ET.iterparse('data/malta-latest.xml', events = ('start', 'end'))\n",
    "        for event, child in tree:\n",
    "\n",
    "            if event == 'start':\n",
    "                if child.tag == 'way':\n",
    "                    child_attributes = child.attrib\n",
    "                    \n",
    "                    #tags = [grandchild.attrib for grandchild in child if grandchild.tag == 'tag']\n",
    "                    hw = any([grandchild.attrib['k'] == 'highway' for grandchild in child if grandchild.tag == 'tag'])\n",
    "                    nds = [grandchild.attrib['ref'] for grandchild in child if grandchild.tag == 'nd']\n",
    "                    oneway = any([grandchild.attrib['k'] == 'oneway' and grandchild.attrib['v'] == 'yes' for grandchild in child if grandchild.tag == 'tag'])\n",
    "\n",
    "                    if hw:\n",
    "                        for i in range(len(nds) - 1):\n",
    "\n",
    "                            nodeOne = nds[i].strip()\n",
    "                            nodeTwo = nds[i + 1].strip()\n",
    "                            try:\n",
    "                                lineNodeOne = BinarySearchIndex(nodes, int(nodeOne))\n",
    "                                lineNodeTwo = BinarySearchIndex(nodes, int(nodeTwo))\n",
    "\n",
    "                                latNodeOne = lats[lineNodeOne]\n",
    "                                lonNodeOne = longs[lineNodeOne]\n",
    "                                latNodeTwo = lats[lineNodeTwo]\n",
    "                                lonNodeTwo = longs[lineNodeTwo]\n",
    "\n",
    "                            except Exception as e:\n",
    "                                print(nodeOne, nodeTwo, lineNodeOne, lineNodeTwo, type(nodeOne), type(nodeTwo))\n",
    "                                break\n",
    "\n",
    "                            ## Distance Formula\n",
    "                            dist = 1\n",
    "\n",
    "\n",
    "                            f.write(f'{nodeOne},{nodeTwo},{dist}\\n') # (from, to)\n",
    "\n",
    "                        if not oneway:\n",
    "                            for i in range(len(nds) - 1):\n",
    "\n",
    "                                dist = 2\n",
    "                                f.write(f'{nodeTwo},{nodeOne},{dist}\\n') # (from, to)\n",
    "                            \n",
    "            if event == 'end':\n",
    "                child.clear()"
   ]
  },
  {
   "cell_type": "code",
   "execution_count": 22,
   "metadata": {},
   "outputs": [
    {
     "name": "stdout",
     "output_type": "stream",
     "text": [
      "7529\n"
     ]
    }
   ],
   "source": [
    "print(BinarySearchIndex(nodes, 244533748))"
   ]
  },
  {
   "cell_type": "code",
   "execution_count": 93,
   "metadata": {},
   "outputs": [],
   "source": [
    "def binary_search(array, value):\n",
    "    index = int(len(array)/2) -1\n",
    "    end = int(len(array)) - 1\n",
    "    while array[index] != value:\n",
    "        if index == end:\n",
    "            return None\n",
    "        elif array[index] > value:\n",
    "            end = index\n",
    "            index = int(index/2)\n",
    "        elif array[index] < value:\n",
    "            index = int((index+1 + end)/2)\n",
    "    return index"
   ]
  },
  {
   "cell_type": "code",
   "execution_count": 95,
   "metadata": {},
   "outputs": [
    {
     "data": {
      "text/plain": [
       "7529"
      ]
     },
     "execution_count": 95,
     "metadata": {},
     "output_type": "execute_result"
    }
   ],
   "source": [
    "binary_search(nodes, str(244533748))"
   ]
  },
  {
   "cell_type": "code",
   "execution_count": null,
   "metadata": {},
   "outputs": [],
   "source": [
    "os.system('cmd /c SORT edges.txt /o edgesSorted.txt')"
   ]
  },
  {
   "cell_type": "code",
   "execution_count": 68,
   "metadata": {},
   "outputs": [
    {
     "name": "stdout",
     "output_type": "stream",
     "text": [
      "35.8574235\n",
      "14.5015412\n"
     ]
    }
   ],
   "source": [
    "lineNodeTwo = BinarySearchIndex(nodes, '146719596')\n",
    "print(lats[lineNodeTwo])\n",
    "print(longs[lineNodeTwo])"
   ]
  },
  {
   "cell_type": "code",
   "execution_count": null,
   "metadata": {},
   "outputs": [],
   "source": [
    "d = {}\n",
    "with open('edges.txt') as edges:\n",
    "    \n",
    "    for line in edges.readlines():\n",
    "        fra, til, dist = [int(i) for i in line.strip().split(sep=\",\")]\n",
    "        vals = d.get(fra)\n",
    "        if vals == None:\n",
    "            d[fra] = til\n",
    "        elif isinstance(vals, int):\n",
    "            d[fra] = vals, til\n",
    "        else:\n",
    "            d[fra] = *vals, til\n",
    "\n",
    "print(d)"
   ]
  }
 ],
 "metadata": {
  "kernelspec": {
   "display_name": "Python 3",
   "language": "python",
   "name": "python3"
  },
  "language_info": {
   "codemirror_mode": {
    "name": "ipython",
    "version": 3
   },
   "file_extension": ".py",
   "mimetype": "text/x-python",
   "name": "python",
   "nbconvert_exporter": "python",
   "pygments_lexer": "ipython3",
   "version": "3.9.1"
  },
  "orig_nbformat": 4,
  "vscode": {
   "interpreter": {
    "hash": "d53d0c6d7a0208dfe75b76e709cb6198d22af794eb83c84ab09394d7f1906a21"
   }
  }
 },
 "nbformat": 4,
 "nbformat_minor": 2
}
